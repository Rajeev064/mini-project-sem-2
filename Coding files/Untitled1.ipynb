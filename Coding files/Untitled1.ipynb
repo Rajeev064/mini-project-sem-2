{
 "cells": [
  {
   "cell_type": "code",
   "execution_count": 1,
   "metadata": {},
   "outputs": [
    {
     "name": "stdout",
     "output_type": "stream",
     "text": [
      "Root mean squared error 28.122479034171587\n",
      "Score 0.9998876938059679\n"
     ]
    },
    {
     "data": {
      "image/png": "[encoded data removed]",
      "text/plain": [
       "<Figure size 432x288 with 1 Axes>"
      ]
     },
     "metadata": {
      "needs_background": "light"
     },
     "output_type": "display_data"
    }
   ],
   "source": [
    "import pandas as pd\n",
    "from sklearn.model_selection import train_test_split\n",
    "from sklearn.linear_model import LinearRegression\n",
    "from sklearn.metrics import mean_squared_error, r2_score\n",
    "import matplotlib.pyplot as plt\n",
    "from math import sqrt\n",
    "\n",
    "file = \"MARUTI.csv\"\n",
    "df = pd.read_csv(file)\n",
    "\n",
    "df['Date'] = pd.to_datetime(df.Date, format='%Y-%m-%d')\n",
    "# df.index = df['Date']\n",
    "\n",
    "# plt.figure(figsize=(16, 8))\n",
    "# plt.plot(df['Open'], df['Close'], label='Close Price history')\n",
    "\n",
    "x = df[[\"Open\", \"High\", \"Low\"]]\n",
    "y = df[\"Close\"]\n",
    "\n",
    "x_train, x_test, y_train, y_test = train_test_split(x, y, test_size=0.3, random_state=20)\n",
    "\n",
    "reg = LinearRegression()\n",
    "reg.fit(x_train, y_train)\n",
    "\n",
    "y_predicted = reg.predict(x_test)\n",
    "rmse = sqrt(mean_squared_error(y_test, y_predicted))\n",
    "\n",
    "plt.plot(y_predicted, y_test)\n",
    "\n",
    "print(\"Root mean squared error\", rmse)\n",
    "print(\"Score\", reg.score(x_test, y_test))\n",
    "plt.show()"
   ]
  },
  {
   "cell_type": "code",
   "execution_count": null,
   "metadata": {},
   "outputs": [],
   "source": [
    "import pickle\n",
    "pickle.dump(reg,open('tcs.pkl','wb'))\n",
    "rg = pickle.load(open('tcs.pkl','rb'))"
   ]
  }
 ],
 "metadata": {
  "kernelspec": {
   "display_name": "Python 3",
   "language": "python",
   "name": "python3"
  },
  "language_info": {
   "codemirror_mode": {
    "name": "ipython",
    "version": 3
   },
   "file_extension": ".py",
   "mimetype": "text/x-python",
   "name": "python",
   "nbconvert_exporter": "python",
   "pygments_lexer": "ipython3",
   "version": "3.7.6"
  }
 },
 "nbformat": 4,
 "nbformat_minor": 4
}
